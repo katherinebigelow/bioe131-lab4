{
 "cells": [
  {
   "cell_type": "markdown",
   "metadata": {},
   "source": [
    "# Lab 4"
   ]
  },
  {
   "cell_type": "markdown",
   "metadata": {},
   "source": [
    "Species\n",
    "\n",
    "    - drosophilia\n",
    "    - e. coli\n",
    "    - h. sapiens\n",
    "\n",
    "table 1. Genes\n",
    "\n",
    "    - name, description, organism, organism, start/end, strand\n",
    "\n",
    "table 2. Pathways\n",
    "\n",
    "    - glycolysis\n",
    "    - citric acid cycle\n",
    "    - pentose phosphate\n",
    "\n",
    "table 3. Enzymes\n",
    "\n",
    "    (Glycolysis)\n",
    "    - Hexokinase (2.7.1.1)\n",
    "    - Phosphoglucose Isomerase (5.3.1.9)\n",
    "    - Enolase (4.2.1.11)\n",
    "    - Pyruvate Kinase (2.7.1.40)\n",
    "\n",
    "    (Pentose Phosphate) \n",
    "    - transketolase (2.2.1.1)\n",
    "    - gluconolactonase (3.1.1.17)\n",
    "    - ribulose-phosphate 3-epimerase (5.1.3.1)\n",
    "    - 2-dehydro-3-deoxygluconokinase (2.7.1.45)\n",
    "\n",
    "    (TCA Cycle)\n",
    "    - aconitase (4.2.1.3)\n",
    "    - fumarase (4.2.1.2)\n",
    "    - malate dehydrogenase (1.1.5.4)\n",
    "    - citrate synthase (2.3.3.1)\n",
    "\n",
    "\n",
    "assn: enzymes to pathways (many to many)\n",
    "\n",
    "assn: genes to enzyme (many to 1)"
   ]
  },
  {
   "cell_type": "code",
   "execution_count": 1,
   "metadata": {
    "collapsed": true
   },
   "outputs": [],
   "source": [
    "from Bio import Entrez\n",
    "Entrez.email = \"kbigelow@berkeley.edu\""
   ]
  },
  {
   "cell_type": "code",
   "execution_count": 2,
   "metadata": {
    "collapsed": true
   },
   "outputs": [],
   "source": [
    "organisms = [\"homo sapiens\", \"drosophilia\", \"e. coli\"]\n",
    "enzymes = [\"hexokinase\", \"phosoglucose isomerase\", \"enolase\", \"pyruvate kinase\", \"transketolase\", \"gluconolactonase\",\n",
    "        \"ribulose-phosphate 3-epimerase\", \"2-dehydro-3-deoxygluconokinase\", \"aconitase\", \"fumarase\", \"malate dehydrogenase\",\n",
    "        \"citrate synthase\"]"
   ]
  },
  {
   "cell_type": "code",
   "execution_count": 3,
   "metadata": {},
   "outputs": [],
   "source": [
    "handle = Entrez.esearch(db=\"nucleotide\", term = \"homo sapiens hexokinase\", sort=\"relevance\", idtype=\"acc\")"
   ]
  },
  {
   "cell_type": "code",
   "execution_count": null,
   "metadata": {},
   "outputs": [],
   "source": []
  },
  {
   "cell_type": "code",
   "execution_count": 6,
   "metadata": {},
   "outputs": [
    {
     "data": {
      "text/plain": [
       "<sqlite3.Cursor at 0x214fbf2ad50>"
      ]
     },
     "execution_count": 6,
     "metadata": {},
     "output_type": "execute_result"
    }
   ],
   "source": [
    "import sqlite3\n",
    "conn = sqlite3.connect(\"my.db\")\n",
    "c = conn.cursor()\n",
    "c.execute(\"\"\"CREATE TABLE genes (id INT, name TEXT, organism TEXT, description TEXT) \"\"\")\n",
    "c.execute(\"\"\"CREATE TABLE pathways (id INT, name TEXT) \"\"\")\n",
    "c.execute(\"\"\"CREATE TABLE enzyme (id INT, name TEXT, ec TEXT) \"\"\")"
   ]
  },
  {
   "cell_type": "markdown",
   "metadata": {},
   "source": [
    "## pathways"
   ]
  },
  {
   "cell_type": "code",
   "execution_count": 8,
   "metadata": {},
   "outputs": [
    {
     "data": {
      "text/plain": [
       "<sqlite3.Cursor at 0x214fbf2ad50>"
      ]
     },
     "execution_count": 8,
     "metadata": {},
     "output_type": "execute_result"
    }
   ],
   "source": [
    "c.execute(\"\"\"INSERT INTO pathways (id, name) VALUES (1, 'Glycolysis')\"\"\")\n",
    "c.execute(\"\"\"INSERT INTO pathways (id, name) VALUES (2, 'Pentose Phosphate')\"\"\")\n",
    "c.execute(\"\"\"INSERT INTO pathways (id, name) VALUES (3, 'TCA Cycle')\"\"\")"
   ]
  },
  {
   "cell_type": "markdown",
   "metadata": {},
   "source": [
    "## enzymes"
   ]
  },
  {
   "cell_type": "code",
   "execution_count": 9,
   "metadata": {},
   "outputs": [
    {
     "data": {
      "text/plain": [
       "<sqlite3.Cursor at 0x214fbf2ad50>"
      ]
     },
     "execution_count": 9,
     "metadata": {},
     "output_type": "execute_result"
    }
   ],
   "source": [
    "c.execute(\"\"\"INSERT INTO enzyme (id, name, ec) VALUES (1, 'hexokinase', '2.7.1.1')\"\"\")\n",
    "c.execute(\"\"\"INSERT INTO enzyme (id, name, ec) VALUES (2, 'phosphoglucose isomerase', '5.3.1.9')\"\"\")\n",
    "c.execute(\"\"\"INSERT INTO enzyme (id, name, ec) VALUES (3, 'enolase', '4.2.1.11')\"\"\")\n",
    "c.execute(\"\"\"INSERT INTO enzyme (id, name, ec) VALUES (4, 'pyruvate kinase', '2.7.1.40')\"\"\")\n",
    "\n",
    "c.execute(\"\"\"INSERT INTO enzyme (id, name, ec) VALUES (5, 'transketolase', '2.2.1.1')\"\"\")\n",
    "c.execute(\"\"\"INSERT INTO enzyme (id, name, ec) VALUES (6, 'gluconolactonase', '3.1.1.17')\"\"\")\n",
    "c.execute(\"\"\"INSERT INTO enzyme (id, name, ec) VALUES (7, 'ribulose-phosphate 3-epimerase', '5.1.3.1')\"\"\")\n",
    "c.execute(\"\"\"INSERT INTO enzyme (id, name, ec) VALUES (8, '2-dehydro-3-deoxygluconokinase', '2.7.1.45')\"\"\")\n",
    "\n",
    "c.execute(\"\"\"INSERT INTO enzyme (id, name, ec) VALUES (9, 'aconitase', '4.2.1.3')\"\"\")\n",
    "c.execute(\"\"\"INSERT INTO enzyme (id, name, ec) VALUES (10, 'fumarase', '4.2.1.2')\"\"\")\n",
    "c.execute(\"\"\"INSERT INTO enzyme (id, name, ec) VALUES (11, 'malate dehydrogenase', '1.1.5.4')\"\"\")\n",
    "c.execute(\"\"\"INSERT INTO enzyme (id, name, ec) VALUES (12, 'citrate synthase', '2.3.3.1')\"\"\")"
   ]
  },
  {
   "cell_type": "code",
   "execution_count": 11,
   "metadata": {},
   "outputs": [],
   "source": [
    "conn.commit()"
   ]
  },
  {
   "cell_type": "markdown",
   "metadata": {},
   "source": [
    "## genes\n",
    "\n",
    "(researched from kegg)"
   ]
  },
  {
   "cell_type": "code",
   "execution_count": 12,
   "metadata": {},
   "outputs": [
    {
     "data": {
      "text/plain": [
       "<sqlite3.Cursor at 0x214fbf2ad50>"
      ]
     },
     "execution_count": 12,
     "metadata": {},
     "output_type": "execute_result"
    }
   ],
   "source": [
    "#hexokinase\n",
    "c.execute(\"\"\"INSERT INTO genes (id, name, organism, description) \n",
    "        VALUES (1, 'HK1', 'homo sapiens', 'hexokinase 1')\"\"\")\n",
    "c.execute(\"\"\"INSERT INTO genes (id, name, organism, description) \n",
    "        VALUES (2, 'Hex-A', 'drosophilia', 'hexokinase A')\"\"\")\n",
    "c.execute(\"\"\"INSERT INTO genes (id, name, organism, description) \n",
    "        VALUES (3, '?', 'e. coli', '?')\"\"\")\n",
    "\n",
    "#phosph isomerase\n",
    "c.execute(\"\"\"INSERT INTO genes (id, name, organism, description) \n",
    "        VALUES (4, 'GPI', 'homo sapiens', 'glucose-6-phosphate isomerase')\"\"\")\n",
    "c.execute(\"\"\"INSERT INTO genes (id, name, organism, description) \n",
    "        VALUES (5, 'Pgi', 'drosophilia', 'phosphoglucose isomerase, isoform A')\"\"\")\n",
    "c.execute(\"\"\"INSERT INTO genes (id, name, organism, description) \n",
    "        VALUES (6, 'pgi', 'e. coli', 'glucosephosphate isomerase')\"\"\")\n",
    "\n",
    "#enolase\n",
    "c.execute(\"\"\"INSERT INTO genes (id, name, organism, description) \n",
    "        VALUES (7, 'ENO1', 'homo sapiens', 'enolase 1')\"\"\")\n",
    "c.execute(\"\"\"INSERT INTO genes (id, name, organism, description) \n",
    "        VALUES (8, 'Eno', 'drosophilia', 'enolase, isoform B')\"\"\")\n",
    "c.execute(\"\"\"INSERT INTO genes (id, name, organism, description) \n",
    "        VALUES (9, 'eno', 'e. coli', 'enolase')\"\"\")\n",
    "\n",
    "#pyruvate kinase\n",
    "c.execute(\"\"\"INSERT INTO genes (id, name, organism, description) \n",
    "        VALUES (10, 'PKM', 'homo sapiens', 'pyruvate kinase M1/2')\"\"\")\n",
    "c.execute(\"\"\"INSERT INTO genes (id, name, organism, description) \n",
    "        VALUES (11, 'CG11249', 'drosophilia', 'uncharacterized protein')\"\"\")\n",
    "c.execute(\"\"\"INSERT INTO genes (id, name, organism, description) \n",
    "        VALUES (12, 'pykF', 'e. coli', 'pyruvate kinase I')\"\"\")\n",
    "\n",
    "#transketolase\n",
    "c.execute(\"\"\"INSERT INTO genes (id, name, organism, description) \n",
    "        VALUES (13, 'TKT', 'homo sapiens', 'transketolase')\"\"\")\n",
    "c.execute(\"\"\"INSERT INTO genes (id, name, organism, description) \n",
    "        VALUES (14, 'CG5103', 'drosophilia', 'uncharacterized protein')\"\"\")\n",
    "c.execute(\"\"\"INSERT INTO genes (id, name, organism, description) \n",
    "        VALUES (15, 'tktB', 'e. coli', 'transketolase 2, thiamine triphosphate-binding')\"\"\")\n",
    "\n",
    "#gluconolactonase\n",
    "c.execute(\"\"\"INSERT INTO genes (id, name, organism, description) \n",
    "        VALUES (16, 'RGN', 'homo sapiens', 'regucalcin')\"\"\")\n",
    "c.execute(\"\"\"INSERT INTO genes (id, name, organism, description) \n",
    "        VALUES (17, '?', 'drosophilia', '?')\"\"\")\n",
    "c.execute(\"\"\"INSERT INTO genes (id, name, organism, description) \n",
    "        VALUES (18, '?', 'e. coli', '?')\"\"\")\n",
    "\n",
    "#ribulose-phosphate 3-epimerase\n",
    "c.execute(\"\"\"INSERT INTO genes (id, name, organism, description) \n",
    "        VALUES (19, 'RPE', 'homo sapiens', 'ribulose-5-phosphate-3-epimerase')\"\"\")\n",
    "c.execute(\"\"\"INSERT INTO genes (id, name, organism, description) \n",
    "        VALUES (20, 'CG30499', 'drosophilia', 'uncharacterized protein, isoform B')\"\"\")\n",
    "c.execute(\"\"\"INSERT INTO genes (id, name, organism, description) \n",
    "        VALUES (21, 'rpe', 'e. coli', 'D-ribulose-5-phosphate 3-epimerase')\"\"\")\n",
    "\n",
    "#2-dehydro-3-deoxygluconokinase\n",
    "c.execute(\"\"\"INSERT INTO genes (id, name, organism, description) \n",
    "        VALUES (22, '?', 'homo sapiens', '?')\"\"\")\n",
    "c.execute(\"\"\"INSERT INTO genes (id, name, organism, description) \n",
    "        VALUES (23, '?', 'drosophilia', '?')\"\"\")\n",
    "c.execute(\"\"\"INSERT INTO genes (id, name, organism, description) \n",
    "        VALUES (24, 'kdgK', 'e. coli', '2-dehydro-3-deoxygluconokinase')\"\"\")\n",
    "\n",
    "#aconitase\n",
    "c.execute(\"\"\"INSERT INTO genes (id, name, organism, description) \n",
    "        VALUES (25, 'ACO1', 'homo sapiens', 'aconitase 1')\"\"\")\n",
    "c.execute(\"\"\"INSERT INTO genes (id, name, organism, description) \n",
    "        VALUES (26, 'CG4706', 'drosophilia', 'uncharacterized protein')\"\"\")\n",
    "c.execute(\"\"\"INSERT INTO genes (id, name, organism, description) \n",
    "        VALUES (27, 'ybhJ', 'e. coli', 'aconitase family protein')\"\"\")\n",
    "\n",
    "#fumarase\n",
    "c.execute(\"\"\"INSERT INTO genes (id, name, organism, description) \n",
    "        VALUES (28, 'FH', 'homo sapiens', 'fumarate hydratase')\"\"\")\n",
    "c.execute(\"\"\"INSERT INTO genes (id, name, organism, description) \n",
    "        VALUES (20, 'CG31874', 'drosophilia', 'uncharacterized protein')\"\"\")\n",
    "c.execute(\"\"\"INSERT INTO genes (id, name, organism, description) \n",
    "        VALUES (30, 'fumC', 'e. coli', 'fumarate hydratase (fumarase C),aerobic Class II')\"\"\")\n",
    "\n",
    "#malate dehydrogenase\n",
    "c.execute(\"\"\"INSERT INTO genes (id, name, organism, description) \n",
    "        VALUES (31, '?', 'homo sapiens', '?')\"\"\")\n",
    "c.execute(\"\"\"INSERT INTO genes (id, name, organism, description) \n",
    "        VALUES (32, '?', 'drosophilia', '?')\"\"\")\n",
    "c.execute(\"\"\"INSERT INTO genes (id, name, organism, description) \n",
    "        VALUES (33, 'mqo', 'e. coli', 'malate dehydrogenase, FAD/NAD(P)-binding domain')\"\"\")\n",
    "\n",
    "#citrate synthase\n",
    "c.execute(\"\"\"INSERT INTO genes (id, name, organism, description) \n",
    "        VALUES (34, 'CS', 'homo sapiens', 'citrate synthase')\"\"\")\n",
    "c.execute(\"\"\"INSERT INTO genes (id, name, organism, description) \n",
    "        VALUES (35, 'CG14740', 'drosophilia', 'uncharacterized protein')\"\"\")\n",
    "c.execute(\"\"\"INSERT INTO genes (id, name, organism, description) \n",
    "        VALUES (36, 'gltA', 'e. coli', 'citrate synthase')\"\"\")\n"
   ]
  },
  {
   "cell_type": "code",
   "execution_count": 13,
   "metadata": {
    "collapsed": true
   },
   "outputs": [],
   "source": [
    "conn.commit()"
   ]
  },
  {
   "cell_type": "markdown",
   "metadata": {},
   "source": [
    "## associative tables"
   ]
  },
  {
   "cell_type": "code",
   "execution_count": 14,
   "metadata": {},
   "outputs": [
    {
     "data": {
      "text/plain": [
       "<sqlite3.Cursor at 0x214fbf2ad50>"
      ]
     },
     "execution_count": 14,
     "metadata": {},
     "output_type": "execute_result"
    }
   ],
   "source": [
    "c.execute(\"\"\"CREATE TABLE enzyme_pathway (enzyme_id INT, pathway_id INT) \"\"\")\n",
    "c.execute(\"\"\"CREATE TABLE enzyme_gene (enzyme_id INT, gene_id INT) \"\"\")"
   ]
  },
  {
   "cell_type": "code",
   "execution_count": 15,
   "metadata": {},
   "outputs": [
    {
     "data": {
      "text/plain": [
       "<sqlite3.Cursor at 0x214fbf2ad50>"
      ]
     },
     "execution_count": 15,
     "metadata": {},
     "output_type": "execute_result"
    }
   ],
   "source": [
    "c.execute(\"\"\"INSERT INTO enzyme_pathway (enzyme_id, pathway_id) VALUES (1, 1)\"\"\")\n",
    "c.execute(\"\"\"INSERT INTO enzyme_pathway (enzyme_id, pathway_id) VALUES (2, 1)\"\"\")\n",
    "c.execute(\"\"\"INSERT INTO enzyme_pathway (enzyme_id, pathway_id) VALUES (3, 1)\"\"\")\n",
    "c.execute(\"\"\"INSERT INTO enzyme_pathway (enzyme_id, pathway_id) VALUES (4, 1)\"\"\")\n",
    "c.execute(\"\"\"INSERT INTO enzyme_pathway (enzyme_id, pathway_id) VALUES (5, 2)\"\"\")\n",
    "c.execute(\"\"\"INSERT INTO enzyme_pathway (enzyme_id, pathway_id) VALUES (6, 2)\"\"\")\n",
    "c.execute(\"\"\"INSERT INTO enzyme_pathway (enzyme_id, pathway_id) VALUES (7, 2)\"\"\")\n",
    "c.execute(\"\"\"INSERT INTO enzyme_pathway (enzyme_id, pathway_id) VALUES (8, 2)\"\"\")\n",
    "c.execute(\"\"\"INSERT INTO enzyme_pathway (enzyme_id, pathway_id) VALUES (9, 3)\"\"\")\n",
    "c.execute(\"\"\"INSERT INTO enzyme_pathway (enzyme_id, pathway_id) VALUES (10, 3)\"\"\")\n",
    "c.execute(\"\"\"INSERT INTO enzyme_pathway (enzyme_id, pathway_id) VALUES (11, 3)\"\"\")\n",
    "c.execute(\"\"\"INSERT INTO enzyme_pathway (enzyme_id, pathway_id) VALUES (12, 3)\"\"\")"
   ]
  },
  {
   "cell_type": "code",
   "execution_count": 19,
   "metadata": {},
   "outputs": [],
   "source": [
    "for enzyme_id in range(1, 13):\n",
    "    for offset in range(-2, 1):\n",
    "        gene_id = enzyme_id * 3 + offset\n",
    "        c.execute(\"\"\"INSERT INTO enzyme_gene (enzyme_id, gene_id) VALUES (?, ?)\"\"\", [enzyme_id, gene_id])"
   ]
  },
  {
   "cell_type": "code",
   "execution_count": 20,
   "metadata": {
    "collapsed": true
   },
   "outputs": [],
   "source": [
    "conn.commit()"
   ]
  },
  {
   "cell_type": "code",
   "execution_count": 22,
   "metadata": {},
   "outputs": [
    {
     "data": {
      "text/plain": [
       "(1, 'HK1', 'homo sapiens', 'hexokinase 1')"
      ]
     },
     "execution_count": 22,
     "metadata": {},
     "output_type": "execute_result"
    }
   ],
   "source": [
    "c.execute(\"\"\"select * from genes\"\"\")\n",
    "c.fetchone()"
   ]
  },
  {
   "cell_type": "code",
   "execution_count": 24,
   "metadata": {},
   "outputs": [
    {
     "data": {
      "text/plain": [
       "(1, 1)"
      ]
     },
     "execution_count": 24,
     "metadata": {},
     "output_type": "execute_result"
    }
   ],
   "source": [
    "c.execute(\"\"\"select * from enzyme_pathway\"\"\")\n",
    "c.fetchone()"
   ]
  },
  {
   "cell_type": "code",
   "execution_count": 26,
   "metadata": {},
   "outputs": [
    {
     "data": {
      "text/plain": [
       "(1, 'hexokinase', '2.7.1.1')"
      ]
     },
     "execution_count": 26,
     "metadata": {},
     "output_type": "execute_result"
    }
   ],
   "source": [
    "c.execute(\"\"\"select * from enzyme\"\"\")\n",
    "c.fetchone()"
   ]
  },
  {
   "cell_type": "code",
   "execution_count": null,
   "metadata": {
    "collapsed": true
   },
   "outputs": [],
   "source": []
  }
 ],
 "metadata": {
  "kernelspec": {
   "display_name": "Python 3",
   "language": "python",
   "name": "python3"
  },
  "language_info": {
   "codemirror_mode": {
    "name": "ipython",
    "version": 3
   },
   "file_extension": ".py",
   "mimetype": "text/x-python",
   "name": "python",
   "nbconvert_exporter": "python",
   "pygments_lexer": "ipython3",
   "version": "3.6.3"
  }
 },
 "nbformat": 4,
 "nbformat_minor": 2
}
